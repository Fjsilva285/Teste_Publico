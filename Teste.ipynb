{
  "nbformat": 4,
  "nbformat_minor": 0,
  "metadata": {
    "colab": {
      "provenance": [],
      "toc_visible": true,
      "authorship_tag": "ABX9TyM9nxP1H/MsX1PcWQ0zVe39",
      "include_colab_link": true
    },
    "kernelspec": {
      "name": "python3",
      "display_name": "Python 3"
    },
    "language_info": {
      "name": "python"
    }
  },
  "cells": [
    {
      "cell_type": "markdown",
      "metadata": {
        "id": "view-in-github",
        "colab_type": "text"
      },
      "source": [
        "<a href=\"https://colab.research.google.com/github/Fjsilva285/Teste_Publico/blob/main/Teste.ipynb\" target=\"_parent\"><img src=\"https://colab.research.google.com/assets/colab-badge.svg\" alt=\"Open In Colab\"/></a>"
      ]
    },
    {
      "cell_type": "markdown",
      "source": [
        "# Calculos"
      ],
      "metadata": {
        "id": "mHgBqRVJhMwi"
      }
    },
    {
      "cell_type": "markdown",
      "source": [
        "# Teste_Calculo\n"
      ],
      "metadata": {
        "id": "yR9TZothFaez"
      }
    },
    {
      "cell_type": "code",
      "execution_count": 8,
      "metadata": {
        "colab": {
          "base_uri": "https://localhost:8080/"
        },
        "id": "Wcxvq8WgKnON",
        "outputId": "69647ce3-4160-482f-f205-9c2b6c1e6ed9"
      },
      "outputs": [
        {
          "output_type": "stream",
          "name": "stdout",
          "text": [
            "Valor 1: 1\n",
            "Valor 2: 2\n",
            "Soma : 3.0\n",
            "Valor 3: 3\n",
            "Valor 4: 4\n",
            "Resultado : 1.0\n",
            "Resultado Soma + Divisao : 4.0\n"
          ]
        }
      ],
      "source": [
        "from os import wait\n",
        "valor1 = float(input(\"Valor 1: \"))\n",
        "valor2 = float(input(\"Valor 2: \"))\n",
        "Soma = (valor1+valor2)\n",
        "print(\"Soma :\", float(Soma))\n",
        "valor3 = float(input(\"Valor 3: \"))\n",
        "valor4 = float(input(\"Valor 4: \"))\n",
        "Divisao = (valor1+valor2)/Soma\n",
        "print(\"Resultado :\", float(Divisao))\n",
        "Resumo = (Soma+Divisao)\n",
        "print(\"Resultado Soma + Divisao :\", Resumo)\n"
      ]
    },
    {
      "cell_type": "code",
      "source": [],
      "metadata": {
        "id": "4ZfsIiX1FZML"
      },
      "execution_count": null,
      "outputs": []
    },
    {
      "cell_type": "code",
      "source": [
        "a= float(input(\"Valor a: \"))\n",
        "b=float(input(\"Valor b: \"))\n",
        "Soma=(a+b)\n",
        "print(Soma)"
      ],
      "metadata": {
        "colab": {
          "base_uri": "https://localhost:8080/"
        },
        "id": "I6HabDmCFgyM",
        "outputId": "9d4b010c-0c16-49c9-f753-7c06e813da59"
      },
      "execution_count": 10,
      "outputs": [
        {
          "output_type": "stream",
          "name": "stdout",
          "text": [
            "Valor a: 1.5\n",
            "Valor b: 1.3\n",
            "2.8\n"
          ]
        }
      ]
    },
    {
      "cell_type": "code",
      "source": [
        "a = float(input (\"Valor a:\"))\n",
        "print(type(a))\n",
        "b= float(input(\"valor b:\"))\n",
        "print(type(b))\n",
        "soma=a+b\n",
        "print (type(soma))\n",
        "print(soma)\n"
      ],
      "metadata": {
        "colab": {
          "base_uri": "https://localhost:8080/"
        },
        "id": "78wxHo2WFw1X",
        "outputId": "13e335f3-b442-4984-88fc-8b2c4a6ea9b5"
      },
      "execution_count": 22,
      "outputs": [
        {
          "output_type": "stream",
          "name": "stdout",
          "text": [
            "Valor a:10\n",
            "<class 'float'>\n",
            "valor b:30\n",
            "<class 'float'>\n",
            "<class 'float'>\n",
            "40.0\n"
          ]
        }
      ]
    },
    {
      "cell_type": "code",
      "source": [
        "# prompt: divisão\n",
        "\n",
        "a = float(input (\"Valor a:\"))\n",
        "print(type(a))\n",
        "b= float(input(\"valor b:\"))\n",
        "print(type(b))\n",
        "divisao = a/b\n",
        "print (type(divisao))\n",
        "print(divisao)\n"
      ],
      "metadata": {
        "colab": {
          "base_uri": "https://localhost:8080/"
        },
        "id": "t5gRXga2JIr-",
        "outputId": "696b6c38-1379-465a-a088-549f89ce52f9"
      },
      "execution_count": 23,
      "outputs": [
        {
          "output_type": "stream",
          "name": "stdout",
          "text": [
            "Valor a:1\n",
            "<class 'float'>\n",
            "valor b:2\n",
            "<class 'float'>\n",
            "<class 'float'>\n",
            "0.5\n"
          ]
        }
      ]
    },
    {
      "cell_type": "code",
      "source": [
        "num_1 = int(input(\"Numero 1: \"))\n",
        "num_2 = int(input(\"Numero 2: \"))\n",
        "soma = num_1+num_2\n",
        "print(soma)\n",
        "print(type(num_1))\n",
        "print(type(num_2))\n",
        "print(type(soma))\n",
        "quoc = soma/2\n",
        "resto=soma%2\n",
        "print(quoc)\n",
        "print(resto)"
      ],
      "metadata": {
        "colab": {
          "base_uri": "https://localhost:8080/"
        },
        "id": "UsOf6EJaJwrb",
        "outputId": "6328075b-fbd4-4ef1-fa8e-6c5fe8b059ed"
      },
      "execution_count": 30,
      "outputs": [
        {
          "output_type": "stream",
          "name": "stdout",
          "text": [
            "Numero 1: 1\n",
            "Numero 2: 2\n",
            "3\n",
            "<class 'int'>\n",
            "<class 'int'>\n",
            "<class 'int'>\n",
            "1.5\n",
            "1\n"
          ]
        }
      ]
    },
    {
      "cell_type": "code",
      "source": [
        "v1 = float(input(\"Valor 1: \"))\n",
        "v2 = float(input(\"Valor 2: \"))\n",
        "v3 = float(input(\"Valor 3: \"))\n",
        "media =(v1+v2+v3)/3\n",
        "print(media)"
      ],
      "metadata": {
        "colab": {
          "base_uri": "https://localhost:8080/"
        },
        "id": "0688BmBRKCVh",
        "outputId": "e12d6767-a996-45f1-9833-29512b903ea1"
      },
      "execution_count": 31,
      "outputs": [
        {
          "output_type": "stream",
          "name": "stdout",
          "text": [
            "Valor 1: 1\n",
            "Valor 2: 2\n",
            "Valor 3: 3\n",
            "2.0\n"
          ]
        }
      ]
    },
    {
      "cell_type": "code",
      "source": [
        "#BASE*ALTURA/2; EXIBIR AREA; FIM\n",
        "\n",
        "base= float(input(\"Base: \"))\n",
        "altura= float(input(\"Altura: \"))\n",
        "area=(base*altura)/2\n",
        "print(area)"
      ],
      "metadata": {
        "colab": {
          "base_uri": "https://localhost:8080/"
        },
        "id": "NeK7tP9fKBtn",
        "outputId": "5221e77d-2690-44f7-d752-0ddf62c45101"
      },
      "execution_count": 46,
      "outputs": [
        {
          "output_type": "stream",
          "name": "stdout",
          "text": [
            "Base: 20\n",
            "Altura: 10\n",
            "100.0\n"
          ]
        }
      ]
    }
  ]
}