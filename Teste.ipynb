{
  "nbformat": 4,
  "nbformat_minor": 0,
  "metadata": {
    "colab": {
      "provenance": [],
      "toc_visible": true,
      "authorship_tag": "ABX9TyM2WtIImR0X10oG/roi8bEV",
      "include_colab_link": true
    },
    "kernelspec": {
      "name": "python3",
      "display_name": "Python 3"
    },
    "language_info": {
      "name": "python"
    }
  },
  "cells": [
    {
      "cell_type": "markdown",
      "metadata": {
        "id": "view-in-github",
        "colab_type": "text"
      },
      "source": [
        "<a href=\"https://colab.research.google.com/github/Fjsilva285/Teste_Publico/blob/main/Teste.ipynb\" target=\"_parent\"><img src=\"https://colab.research.google.com/assets/colab-badge.svg\" alt=\"Open In Colab\"/></a>"
      ]
    },
    {
      "cell_type": "markdown",
      "source": [
        "# Calculos"
      ],
      "metadata": {
        "id": "mHgBqRVJhMwi"
      }
    },
    {
      "cell_type": "markdown",
      "source": [
        "# Teste_Calculo\n"
      ],
      "metadata": {
        "id": "yR9TZothFaez"
      }
    },
    {
      "cell_type": "code",
      "execution_count": 8,
      "metadata": {
        "colab": {
          "base_uri": "https://localhost:8080/"
        },
        "id": "Wcxvq8WgKnON",
        "outputId": "69647ce3-4160-482f-f205-9c2b6c1e6ed9"
      },
      "outputs": [
        {
          "output_type": "stream",
          "name": "stdout",
          "text": [
            "Valor 1: 1\n",
            "Valor 2: 2\n",
            "Soma : 3.0\n",
            "Valor 3: 3\n",
            "Valor 4: 4\n",
            "Resultado : 1.0\n",
            "Resultado Soma + Divisao : 4.0\n"
          ]
        }
      ],
      "source": [
        "from os import wait\n",
        "valor1 = float(input(\"Valor 1: \"))\n",
        "valor2 = float(input(\"Valor 2: \"))\n",
        "Soma = (valor1+valor2)\n",
        "print(\"Soma :\", float(Soma))\n",
        "valor3 = float(input(\"Valor 3: \"))\n",
        "valor4 = float(input(\"Valor 4: \"))\n",
        "Divisao = (valor1+valor2)/Soma\n",
        "print(\"Resultado :\", float(Divisao))\n",
        "Resumo = (Soma+Divisao)\n",
        "print(\"Resultado Soma + Divisao :\", Resumo)\n"
      ]
    },
    {
      "cell_type": "code",
      "source": [],
      "metadata": {
        "id": "4ZfsIiX1FZML"
      },
      "execution_count": null,
      "outputs": []
    },
    {
      "cell_type": "code",
      "source": [
        "a= float(input(\"Valor a: \"))\n",
        "b=float(input(\"Valor b: \"))\n",
        "Soma=(a+b)\n",
        "print(Soma)"
      ],
      "metadata": {
        "colab": {
          "base_uri": "https://localhost:8080/"
        },
        "id": "I6HabDmCFgyM",
        "outputId": "9d4b010c-0c16-49c9-f753-7c06e813da59"
      },
      "execution_count": 10,
      "outputs": [
        {
          "output_type": "stream",
          "name": "stdout",
          "text": [
            "Valor a: 1.5\n",
            "Valor b: 1.3\n",
            "2.8\n"
          ]
        }
      ]
    },
    {
      "cell_type": "code",
      "source": [
        "a = float(input (\"Valor a:\"))\n",
        "print(type(a))\n",
        "b= float(input(\"valor b:\"))\n",
        "print(type(b))\n",
        "soma=a+b\n",
        "print (type(soma))\n",
        "print(soma)\n"
      ],
      "metadata": {
        "colab": {
          "base_uri": "https://localhost:8080/"
        },
        "id": "78wxHo2WFw1X",
        "outputId": "13e335f3-b442-4984-88fc-8b2c4a6ea9b5"
      },
      "execution_count": 22,
      "outputs": [
        {
          "output_type": "stream",
          "name": "stdout",
          "text": [
            "Valor a:10\n",
            "<class 'float'>\n",
            "valor b:30\n",
            "<class 'float'>\n",
            "<class 'float'>\n",
            "40.0\n"
          ]
        }
      ]
    },
    {
      "cell_type": "code",
      "source": [
        "# prompt: divisão\n",
        "\n",
        "a = float(input (\"Valor a:\"))\n",
        "print(type(a))\n",
        "b= float(input(\"valor b:\"))\n",
        "print(type(b))\n",
        "divisao = a/b\n",
        "print (type(divisao))\n",
        "print(divisao)\n"
      ],
      "metadata": {
        "colab": {
          "base_uri": "https://localhost:8080/"
        },
        "id": "t5gRXga2JIr-",
        "outputId": "696b6c38-1379-465a-a088-549f89ce52f9"
      },
      "execution_count": 23,
      "outputs": [
        {
          "output_type": "stream",
          "name": "stdout",
          "text": [
            "Valor a:1\n",
            "<class 'float'>\n",
            "valor b:2\n",
            "<class 'float'>\n",
            "<class 'float'>\n",
            "0.5\n"
          ]
        }
      ]
    },
    {
      "cell_type": "code",
      "source": [
        "num = int(input(\"Numero 1: \"))\n",
        "print(type(num))\n",
        "quoc = num/2\n",
        "resto=num%2\n",
        "print(quoc)\n",
        "print(resto)"
      ],
      "metadata": {
        "colab": {
          "base_uri": "https://localhost:8080/"
        },
        "id": "UsOf6EJaJwrb",
        "outputId": "614bd2c9-d57f-475b-c0e8-5402b5d8feda"
      },
      "execution_count": 29,
      "outputs": [
        {
          "output_type": "stream",
          "name": "stdout",
          "text": [
            "Numero 1: 1\n",
            "<class 'int'>\n",
            "0.5\n",
            "1\n"
          ]
        }
      ]
    },
    {
      "cell_type": "code",
      "source": [],
      "metadata": {
        "id": "0688BmBRKCVh"
      },
      "execution_count": null,
      "outputs": []
    },
    {
      "cell_type": "code",
      "source": [],
      "metadata": {
        "id": "NeK7tP9fKBtn"
      },
      "execution_count": null,
      "outputs": []
    }
  ]
}