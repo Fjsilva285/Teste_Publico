{
  "nbformat": 4,
  "nbformat_minor": 0,
  "metadata": {
    "colab": {
      "provenance": [],
      "toc_visible": true,
      "authorship_tag": "ABX9TyOfLD8gceQyo7wnFGTRApsR",
      "include_colab_link": true
    },
    "kernelspec": {
      "name": "python3",
      "display_name": "Python 3"
    },
    "language_info": {
      "name": "python"
    }
  },
  "cells": [
    {
      "cell_type": "markdown",
      "metadata": {
        "id": "view-in-github",
        "colab_type": "text"
      },
      "source": [
        "<a href=\"https://colab.research.google.com/github/Fjsilva285/Teste_Publico/blob/main/Teste.ipynb\" target=\"_parent\"><img src=\"https://colab.research.google.com/assets/colab-badge.svg\" alt=\"Open In Colab\"/></a>"
      ]
    },
    {
      "cell_type": "markdown",
      "source": [
        "# Calculos"
      ],
      "metadata": {
        "id": "mHgBqRVJhMwi"
      }
    },
    {
      "cell_type": "markdown",
      "source": [
        "# Teste_Calculo\n"
      ],
      "metadata": {
        "id": "yR9TZothFaez"
      }
    },
    {
      "cell_type": "code",
      "execution_count": null,
      "metadata": {
        "colab": {
          "base_uri": "https://localhost:8080/"
        },
        "id": "Wcxvq8WgKnON",
        "outputId": "69647ce3-4160-482f-f205-9c2b6c1e6ed9"
      },
      "outputs": [
        {
          "output_type": "stream",
          "name": "stdout",
          "text": [
            "Valor 1: 1\n",
            "Valor 2: 2\n",
            "Soma : 3.0\n",
            "Valor 3: 3\n",
            "Valor 4: 4\n",
            "Resultado : 1.0\n",
            "Resultado Soma + Divisao : 4.0\n"
          ]
        }
      ],
      "source": [
        "from os import wait\n",
        "valor1 = float(input(\"Valor 1: \"))\n",
        "valor2 = float(input(\"Valor 2: \"))\n",
        "Soma = (valor1+valor2)\n",
        "print(\"Soma :\", float(Soma))\n",
        "valor3 = float(input(\"Valor 3: \"))\n",
        "valor4 = float(input(\"Valor 4: \"))\n",
        "Divisao = (valor1+valor2)/Soma\n",
        "print(\"Resultado :\", float(Divisao))\n",
        "Resumo = (Soma+Divisao)\n",
        "print(\"Resultado Soma + Divisao :\", Resumo)\n"
      ]
    },
    {
      "cell_type": "code",
      "source": [],
      "metadata": {
        "id": "4ZfsIiX1FZML"
      },
      "execution_count": null,
      "outputs": []
    },
    {
      "cell_type": "code",
      "source": [
        "a= float(input(\"Valor a: \"))\n",
        "b=float(input(\"Valor b: \"))\n",
        "Soma=(a+b)\n",
        "print(Soma)"
      ],
      "metadata": {
        "colab": {
          "base_uri": "https://localhost:8080/"
        },
        "id": "I6HabDmCFgyM",
        "outputId": "9d4b010c-0c16-49c9-f753-7c06e813da59"
      },
      "execution_count": null,
      "outputs": [
        {
          "output_type": "stream",
          "name": "stdout",
          "text": [
            "Valor a: 1.5\n",
            "Valor b: 1.3\n",
            "2.8\n"
          ]
        }
      ]
    },
    {
      "cell_type": "code",
      "source": [
        "a = float(input (\"Valor a:\"))\n",
        "print(type(a))\n",
        "b= float(input(\"valor b:\"))\n",
        "print(type(b))\n",
        "soma=a+b\n",
        "print (type(soma))\n",
        "print(soma)\n"
      ],
      "metadata": {
        "colab": {
          "base_uri": "https://localhost:8080/"
        },
        "id": "78wxHo2WFw1X",
        "outputId": "13e335f3-b442-4984-88fc-8b2c4a6ea9b5"
      },
      "execution_count": null,
      "outputs": [
        {
          "output_type": "stream",
          "name": "stdout",
          "text": [
            "Valor a:10\n",
            "<class 'float'>\n",
            "valor b:30\n",
            "<class 'float'>\n",
            "<class 'float'>\n",
            "40.0\n"
          ]
        }
      ]
    },
    {
      "cell_type": "code",
      "source": [
        "# prompt: divisão\n",
        "\n",
        "a = float(input (\"Valor a:\"))\n",
        "print(type(a))\n",
        "b= float(input(\"valor b:\"))\n",
        "print(type(b))\n",
        "divisao = a/b\n",
        "print (type(divisao))\n",
        "print(divisao)\n"
      ],
      "metadata": {
        "colab": {
          "base_uri": "https://localhost:8080/"
        },
        "id": "t5gRXga2JIr-",
        "outputId": "696b6c38-1379-465a-a088-549f89ce52f9"
      },
      "execution_count": null,
      "outputs": [
        {
          "output_type": "stream",
          "name": "stdout",
          "text": [
            "Valor a:1\n",
            "<class 'float'>\n",
            "valor b:2\n",
            "<class 'float'>\n",
            "<class 'float'>\n",
            "0.5\n"
          ]
        }
      ]
    },
    {
      "cell_type": "code",
      "source": [
        "num_1 = int(input(\"Numero 1: \"))\n",
        "num_2 = int(input(\"Numero 2: \"))\n",
        "soma = num_1+num_2\n",
        "print(soma)\n",
        "print(type(num_1))\n",
        "print(type(num_2))\n",
        "print(type(soma))\n",
        "quoc = soma/2\n",
        "resto=soma%2\n",
        "print(quoc)\n",
        "print(resto)"
      ],
      "metadata": {
        "colab": {
          "base_uri": "https://localhost:8080/"
        },
        "id": "UsOf6EJaJwrb",
        "outputId": "6328075b-fbd4-4ef1-fa8e-6c5fe8b059ed"
      },
      "execution_count": null,
      "outputs": [
        {
          "output_type": "stream",
          "name": "stdout",
          "text": [
            "Numero 1: 1\n",
            "Numero 2: 2\n",
            "3\n",
            "<class 'int'>\n",
            "<class 'int'>\n",
            "<class 'int'>\n",
            "1.5\n",
            "1\n"
          ]
        }
      ]
    },
    {
      "cell_type": "code",
      "source": [
        "v1 = float(input(\"Valor 1: \"))\n",
        "v2 = float(input(\"Valor 2: \"))\n",
        "v3 = float(input(\"Valor 3: \"))\n",
        "media =(v1+v2+v3)/3\n",
        "print(media)"
      ],
      "metadata": {
        "colab": {
          "base_uri": "https://localhost:8080/"
        },
        "id": "0688BmBRKCVh",
        "outputId": "e12d6767-a996-45f1-9833-29512b903ea1"
      },
      "execution_count": null,
      "outputs": [
        {
          "output_type": "stream",
          "name": "stdout",
          "text": [
            "Valor 1: 1\n",
            "Valor 2: 2\n",
            "Valor 3: 3\n",
            "2.0\n"
          ]
        }
      ]
    },
    {
      "cell_type": "code",
      "source": [
        "#BASE*ALTURA/2; EXIBIR AREA; FIM\n",
        "\n",
        "base= float(input(\"Base: \"))\n",
        "altura= float(input(\"Altura: \"))\n",
        "area=(base*altura)/2\n",
        "print(area)"
      ],
      "metadata": {
        "colab": {
          "base_uri": "https://localhost:8080/"
        },
        "id": "NeK7tP9fKBtn",
        "outputId": "5221e77d-2690-44f7-d752-0ddf62c45101"
      },
      "execution_count": null,
      "outputs": [
        {
          "output_type": "stream",
          "name": "stdout",
          "text": [
            "Base: 20\n",
            "Altura: 10\n",
            "100.0\n"
          ]
        }
      ]
    },
    {
      "cell_type": "markdown",
      "source": [
        "#Verdadeiro_Ou_Falso"
      ],
      "metadata": {
        "id": "aWtdzw0g6OUy"
      }
    },
    {
      "cell_type": "code",
      "source": [
        "# Base de dados inicial\n",
        "Base = {\n",
        "    'Nome': ['Carro', 'Maquina', 'TV', 'Mesa', 'Molde'],\n",
        "    'ID': [1, 2, 3, 4, 5],\n",
        "    'Local': ['100', '101', '102', '103', '104']\n",
        "}\n",
        "\n",
        "# Coletando o valor via APP\n",
        "Valor_Coletado = int(input(\"Valor Coletado: \"))\n",
        "Local_Coletado = input(\"Local Coletado: \")\n",
        "\n",
        "# Verificando se o valor coletado está na Base de Dados\n",
        "if Valor_Coletado in Base.get('ID'):\n",
        "    index = Base.get('ID').index(Valor_Coletado)\n",
        "    if Base['Local'][index] == Local_Coletado:\n",
        "        print(f\"O valor {Valor_Coletado} está na base de dados e o local é o mesmo.\")\n",
        "    else:\n",
        "        print(f\"O valor {Valor_Coletado} está na base de dados, mas o local é diferente.\")\n",
        "else:\n",
        "    print(f\"O valor {Valor_Coletado} não está na base de dados.\")\n"
      ],
      "metadata": {
        "colab": {
          "base_uri": "https://localhost:8080/"
        },
        "id": "wm2fI6F86Xo2",
        "outputId": "0a1117b9-5f24-418a-ed1e-f9d6b3098d6e"
      },
      "execution_count": 16,
      "outputs": [
        {
          "output_type": "stream",
          "name": "stdout",
          "text": [
            "Valor Coletado: 1\n",
            "Local Coletado: 101\n",
            "O valor 1 está na base de dados, mas o local é diferente.\n"
          ]
        }
      ]
    },
    {
      "cell_type": "markdown",
      "source": [
        "#Teste_Atualizar_Data"
      ],
      "metadata": {
        "id": "nE_nZv-T2GW5"
      }
    },
    {
      "cell_type": "code",
      "source": [
        "import datetime\n",
        "\n",
        "# Base de dados inicial\n",
        "Base = {\n",
        "    'Nome': ['Carro', 'Maquina', 'TV', 'Mesa', 'Molde'],\n",
        "    'ID': [1, 2, 3, 4, 5],\n",
        "    'Local': ['100', '101', '102', '103', '104'],\n",
        "    'DataHora': [''] * 5  # Adicionando campo para data e hora\n",
        "}\n",
        "\n",
        "# Função para salvar a base de dados em um arquivo txt\n",
        "def salvar_base_dados(base, nome_arquivo=\"base_dados.txt\"):\n",
        "    with open(nome_arquivo, 'w') as file:\n",
        "        for i in range(len(base['ID'])):\n",
        "            linha = (f\"ID: {base['ID'][i]}, Nome: {base['Nome'][i]}, \"\n",
        "                     f\"Local: {base['Local'][i]}, DataHora: {base['DataHora'][i]}\\n\")\n",
        "            file.write(linha)\n",
        "    print(f\"Base de dados salva em {nome_arquivo}\")\n",
        "\n",
        "# Coletando o valor via APP\n",
        "Valor_Coletado = int(input(\"Valor Coletado: \"))\n",
        "Local_Coletado = input(\"Local Coletado: \")\n",
        "\n",
        "# Verificando se o valor coletado está na Base de Dados\n",
        "if Valor_Coletado in Base.get('ID'):\n",
        "    index = Base.get('ID').index(Valor_Coletado)\n",
        "    if Base['Local'][index] == Local_Coletado:\n",
        "        print(f\"O valor {Valor_Coletado} Bem Localizado.\")\n",
        "    else:\n",
        "        print(f\"O valor {Valor_Coletado} Bem Localizado, mas o local é diferente.\")\n",
        "        atualizar = input(\"Deseja atualizar o novo local? (Sim/Não): \").strip().lower()\n",
        "        if atualizar == \"sim\":\n",
        "            Base['Local'][index] = Local_Coletado\n",
        "            Base['DataHora'][index] = datetime.datetime.now().strftime(\"%Y-%m-%d %H:%M:%S\")\n",
        "            print(f\"Local Atualizado {Valor_Coletado} é {Local_Coletado}.\")\n",
        "            salvar_base_dados(Base)\n",
        "        else:\n",
        "            print(\"O Bem ficou em seu local de Origem.\")\n",
        "else:\n",
        "    print(f\"O valor {Valor_Coletado} não está na base de dados.\")\n",
        "\n",
        "    print(base)\n",
        "\n",
        "# Salvando a base de dados no final da execução\n",
        "salvar_base_dados(Base)\n"
      ],
      "metadata": {
        "id": "G6aB9CGX73ze",
        "colab": {
          "base_uri": "https://localhost:8080/"
        },
        "outputId": "3f691f35-fa2e-4c27-a40f-e92d459b8d40"
      },
      "execution_count": 19,
      "outputs": [
        {
          "output_type": "stream",
          "name": "stdout",
          "text": [
            "Valor Coletado: 1\n",
            "Local Coletado: 2\n",
            "O valor 1 Bem Localizado, mas o local é diferente.\n",
            "Deseja atualizar o novo local? (Sim/Não): sIM\n",
            "Local Atualizado 1 é 2.\n",
            "Base de dados salva em base_dados.txt\n",
            "Base de dados salva em base_dados.txt\n"
          ]
        }
      ]
    },
    {
      "cell_type": "markdown",
      "source": [
        "#Teste_Atualizar"
      ],
      "metadata": {
        "id": "UUoFyduY1cM6"
      }
    },
    {
      "cell_type": "code",
      "source": [
        "import datetime\n",
        "\n",
        "# Base de dados inicial\n",
        "Base = {\n",
        "    'Nome': ['Carro', 'Maquina', 'TV', 'Mesa', 'Molde'],\n",
        "    'ID': [1, 2, 3, 4, 5],\n",
        "    'Local': ['100', '101', '102', '103', '104'],\n",
        "    'DataHora': [''] * 5  # Adicionando campo para data e hora\n",
        "}\n",
        "\n",
        "# Função para salvar a base de dados em um arquivo txt\n",
        "def salvar_base_dados(base, nome_arquivo=\"base_dados.txt\"):\n",
        "    with open(f\"/mnt/data/{nome_arquivo}\", 'w') as file:\n",
        "        for i in range(len(base['ID'])):\n",
        "            linha = (f\"ID: {base['ID'][i]}, Nome: {base['Nome'][i]}, \"\n",
        "                     f\"Local: {base['Local'][i]}, DataHora: {base['DataHora'][i]}\\n\")\n",
        "            file.write(linha)\n",
        "    return f\"/mnt/data/{nome_arquivo}\"\n",
        "\n",
        "# Coletando o valor via APP\n",
        "Valor_Coletado = int(input(\"Valor Coletado: \"))\n",
        "Local_Coletado = input(\"Local Coletado: \")\n",
        "\n",
        "# Verificando se o valor coletado está na Base de Dados\n",
        "if Valor_Coletado in Base.get('ID'):\n",
        "    index = Base.get('ID').index(Valor_Coletado)\n",
        "    if Base['Local'][index] == Local_Coletado:\n",
        "        print(f\"O valor {Valor_Coletado} Bem Localizado.\")\n",
        "    else:\n",
        "        print(f\"O valor {Valor_Coletado} Bem Localizado, mas o local é diferente.\")\n",
        "        atualizar = input(\"Deseja atualizar o novo local? (Sim/Não): \").strip().lower()\n",
        "        if atualizar == \"sim\":\n",
        "            Base['Local'][index] = Local_Coletado\n",
        "            Base['DataHora'][index] = datetime.datetime.now().strftime(\"%Y-%m-%d %H:%M:%S\")\n",
        "            print(f\"Local Atualizado {Valor_Coletado} é {Local_Coletado}.\")\n",
        "            caminho_arquivo = salvar_base_dados(Base)\n",
        "            print(f\"Base de dados atualizada. Baixe o arquivo clicando no link: {caminho_arquivo}\")\n",
        "        else:\n",
        "            print(\"O Bem ficou em seu local de Origem.\")\n",
        "else:\n",
        "    print(f\"O valor {Valor_Coletado} não está na base de dados.\")\n",
        "\n",
        "# Salvando a base de dados no final da execução\n",
        "caminho_arquivo = salvar_base_dados(Base)\n",
        "print(f\"Base de dados salva. Baixe o arquivo clicando no link: {caminho_arquivo}\")\n"
      ],
      "metadata": {
        "id": "JU2YkyfW1iX_"
      },
      "execution_count": null,
      "outputs": []
    }
  ]
}