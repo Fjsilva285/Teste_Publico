{
  "nbformat": 4,
  "nbformat_minor": 0,
  "metadata": {
    "colab": {
      "provenance": [],
      "toc_visible": true,
      "authorship_tag": "ABX9TyPpuXMwp3iuvT/HeVgwYVno",
      "include_colab_link": true
    },
    "kernelspec": {
      "name": "python3",
      "display_name": "Python 3"
    },
    "language_info": {
      "name": "python"
    }
  },
  "cells": [
    {
      "cell_type": "markdown",
      "metadata": {
        "id": "view-in-github",
        "colab_type": "text"
      },
      "source": [
        "<a href=\"https://colab.research.google.com/github/Fjsilva285/Teste_Publico/blob/main/Teste.ipynb\" target=\"_parent\"><img src=\"https://colab.research.google.com/assets/colab-badge.svg\" alt=\"Open In Colab\"/></a>"
      ]
    },
    {
      "cell_type": "markdown",
      "source": [
        "# Calculos"
      ],
      "metadata": {
        "id": "mHgBqRVJhMwi"
      }
    },
    {
      "cell_type": "code",
      "execution_count": null,
      "metadata": {
        "colab": {
          "base_uri": "https://localhost:8080/"
        },
        "id": "Wcxvq8WgKnON",
        "outputId": "63ab4ff5-e7e0-4e34-c096-cb3d8b6b9e77"
      },
      "outputs": [
        {
          "output_type": "stream",
          "name": "stdout",
          "text": [
            "Digite Valor 1: 1\n",
            "Digite Valor 2: 2\n",
            "Soma : 3.0\n",
            "Digite Valor 3: 1\n",
            "Digite Valor 4: 2\n",
            "Resultado : 1.0\n",
            "Resultado Soma + Divisao : 4.0\n"
          ]
        }
      ],
      "source": [
        "from os import wait\n",
        "valor1 = float(input(\"Digite Valor 1: \"))\n",
        "valor2 = float(input(\"Digite Valor 2: \"))\n",
        "Soma = (valor1+valor2)\n",
        "print(\"Soma :\", float(Soma))\n",
        "valor3 = float(input(\"Digite Valor 3: \"))\n",
        "valor4 = float(input(\"Digite Valor 4: \"))\n",
        "Divisao = (valor1+valor2)/Soma\n",
        "print(\"Resultado :\", float(Divisao))\n",
        "Resumo = (Soma+Divisao)\n",
        "print(\"Resultado Soma + Divisao :\", Resumo)\n"
      ]
    }
  ]
}