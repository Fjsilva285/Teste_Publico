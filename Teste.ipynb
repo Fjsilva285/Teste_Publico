{
  "cells": [
    {
      "cell_type": "markdown",
      "metadata": {
        "id": "view-in-github",
        "colab_type": "text"
      },
      "source": [
        "<a href=\"https://colab.research.google.com/github/Fjsilva285/Teste_Publico/blob/main/Teste.ipynb\" target=\"_parent\"><img src=\"https://colab.research.google.com/assets/colab-badge.svg\" alt=\"Open In Colab\"/></a>"
      ]
    },
    {
      "cell_type": "markdown",
      "metadata": {
        "id": "mHgBqRVJhMwi"
      },
      "source": [
        "# Calculos"
      ]
    },
    {
      "cell_type": "markdown",
      "source": [
        "# Atividades de Calculo\n"
      ],
      "metadata": {
        "id": "1ca_OT7i_NTn"
      }
    },
    {
      "cell_type": "code",
      "source": [
        "valor1 = (4 * 3)\n",
        "valor2= valor1+1\n",
        "print(valor2)"
      ],
      "metadata": {
        "colab": {
          "base_uri": "https://localhost:8080/",
          "height": 176
        },
        "id": "x_WqcRl9HS0e",
        "outputId": "547654c6-ee90-4335-93cf-ec76f83c5a32"
      },
      "execution_count": 62,
      "outputs": [
        {
          "output_type": "error",
          "ename": "TypeError",
          "evalue": "'float' object is not callable",
          "traceback": [
            "\u001b[0;31m---------------------------------------------------------------------------\u001b[0m",
            "\u001b[0;31mTypeError\u001b[0m                                 Traceback (most recent call last)",
            "\u001b[0;32m<ipython-input-62-ca85f2380a47>\u001b[0m in \u001b[0;36m<cell line: 3>\u001b[0;34m()\u001b[0m\n\u001b[1;32m      1\u001b[0m \u001b[0mvalor1\u001b[0m \u001b[0;34m=\u001b[0m \u001b[0;34m(\u001b[0m\u001b[0;36m4\u001b[0m \u001b[0;34m*\u001b[0m \u001b[0;36m3\u001b[0m\u001b[0;34m)\u001b[0m\u001b[0;34m\u001b[0m\u001b[0;34m\u001b[0m\u001b[0m\n\u001b[1;32m      2\u001b[0m \u001b[0mvalor2\u001b[0m\u001b[0;34m=\u001b[0m \u001b[0mvalor1\u001b[0m\u001b[0;34m+\u001b[0m\u001b[0;36m1\u001b[0m\u001b[0;34m\u001b[0m\u001b[0;34m\u001b[0m\u001b[0m\n\u001b[0;32m----> 3\u001b[0;31m \u001b[0mprint\u001b[0m\u001b[0;34m(\u001b[0m\u001b[0mvalor2\u001b[0m\u001b[0;34m)\u001b[0m\u001b[0;34m\u001b[0m\u001b[0;34m\u001b[0m\u001b[0m\n\u001b[0m",
            "\u001b[0;31mTypeError\u001b[0m: 'float' object is not callable"
          ]
        }
      ]
    },
    {
      "cell_type": "code",
      "source": [
        "p= float(input(\"digite o valor da polegada: \"))\n",
        "mm=p*25.4\n",
        "print(\"Valor Pol em mm =\",mm)\n"
      ],
      "metadata": {
        "colab": {
          "base_uri": "https://localhost:8080/"
        },
        "id": "aR3pc0tH_R4d",
        "outputId": "650d91ef-3bf4-4689-d41a-740a434321b1"
      },
      "execution_count": 39,
      "outputs": [
        {
          "output_type": "stream",
          "name": "stdout",
          "text": [
            "digite o valor da polegada: 2\n",
            "Valor Pol em mm = 50.8\n"
          ]
        }
      ]
    },
    {
      "cell_type": "code",
      "source": [
        "from math import pi\n",
        "2*pi*3\n",
        "\n"
      ],
      "metadata": {
        "colab": {
          "base_uri": "https://localhost:8080/"
        },
        "id": "qb9XVZCgGaBg",
        "outputId": "af880c6d-8cc8-4f72-da17-9371cdee6cf4"
      },
      "execution_count": 47,
      "outputs": [
        {
          "output_type": "execute_result",
          "data": {
            "text/plain": [
              "18.84955592153876"
            ]
          },
          "metadata": {},
          "execution_count": 47
        }
      ]
    },
    {
      "cell_type": "code",
      "source": [
        "d= float(input(\"digite o valor do diametro: \"))\n",
        "r= d/2\n",
        "print(\"Valor do raio =\",r)"
      ],
      "metadata": {
        "colab": {
          "base_uri": "https://localhost:8080/"
        },
        "id": "QTTXUc5DCk49",
        "outputId": "a844358a-1d88-4dfc-ac3a-25bccfe777a0"
      },
      "execution_count": 43,
      "outputs": [
        {
          "output_type": "stream",
          "name": "stdout",
          "text": [
            "digite o valor do diametro: 120\n",
            "Valor do raio = 60.0\n"
          ]
        }
      ]
    },
    {
      "cell_type": "markdown",
      "metadata": {
        "id": "yR9TZothFaez"
      },
      "source": [
        "# Teste_Calculo\n"
      ]
    },
    {
      "cell_type": "code",
      "execution_count": null,
      "metadata": {
        "colab": {
          "base_uri": "https://localhost:8080/"
        },
        "id": "Wcxvq8WgKnON",
        "outputId": "69647ce3-4160-482f-f205-9c2b6c1e6ed9"
      },
      "outputs": [
        {
          "name": "stdout",
          "output_type": "stream",
          "text": [
            "Valor 1: 1\n",
            "Valor 2: 2\n",
            "Soma : 3.0\n",
            "Valor 3: 3\n",
            "Valor 4: 4\n",
            "Resultado : 1.0\n",
            "Resultado Soma + Divisao : 4.0\n"
          ]
        }
      ],
      "source": [
        "from os import wait\n",
        "valor1 = float(input(\"Valor 1: \"))\n",
        "valor2 = float(input(\"Valor 2: \"))\n",
        "Soma = (valor1+valor2)\n",
        "print(\"Soma :\", float(Soma))\n",
        "valor3 = float(input(\"Valor 3: \"))\n",
        "valor4 = float(input(\"Valor 4: \"))\n",
        "Divisao = (valor1+valor2)/Soma\n",
        "print(\"Resultado :\", float(Divisao))\n",
        "Resumo = (Soma+Divisao)\n",
        "print(\"Resultado Soma + Divisao :\", Resumo)\n"
      ]
    },
    {
      "cell_type": "code",
      "execution_count": 37,
      "metadata": {
        "id": "4ZfsIiX1FZML",
        "colab": {
          "base_uri": "https://localhost:8080/"
        },
        "outputId": "4d609e14-85aa-48b3-cf44-e58adb7f582e"
      },
      "outputs": [
        {
          "output_type": "stream",
          "name": "stdout",
          "text": [
            "digite o valor da polegada: 2\n",
            "Valor mm 50.8\n"
          ]
        }
      ],
      "source": [
        "p= float(input(\"digite o valor da polegada: \"))\n",
        "mm=p*25.4\n",
        "print(\"Valor mm\",mm)\n"
      ]
    },
    {
      "cell_type": "code",
      "execution_count": null,
      "metadata": {
        "colab": {
          "base_uri": "https://localhost:8080/"
        },
        "id": "I6HabDmCFgyM",
        "outputId": "9d4b010c-0c16-49c9-f753-7c06e813da59"
      },
      "outputs": [
        {
          "name": "stdout",
          "output_type": "stream",
          "text": [
            "Valor a: 1.5\n",
            "Valor b: 1.3\n",
            "2.8\n"
          ]
        }
      ],
      "source": [
        "a= float(input(\"Valor a: \"))\n",
        "b=float(input(\"Valor b: \"))\n",
        "Soma=(a+b)\n",
        "print(Soma)"
      ]
    },
    {
      "cell_type": "code",
      "execution_count": null,
      "metadata": {
        "colab": {
          "base_uri": "https://localhost:8080/"
        },
        "id": "78wxHo2WFw1X",
        "outputId": "13e335f3-b442-4984-88fc-8b2c4a6ea9b5"
      },
      "outputs": [
        {
          "name": "stdout",
          "output_type": "stream",
          "text": [
            "Valor a:10\n",
            "<class 'float'>\n",
            "valor b:30\n",
            "<class 'float'>\n",
            "<class 'float'>\n",
            "40.0\n"
          ]
        }
      ],
      "source": [
        "a = float(input (\"Valor a:\"))\n",
        "print(type(a))\n",
        "b= float(input(\"valor b:\"))\n",
        "print(type(b))\n",
        "soma=a+b\n",
        "print (type(soma))\n",
        "print(soma)\n"
      ]
    },
    {
      "cell_type": "code",
      "execution_count": null,
      "metadata": {
        "colab": {
          "base_uri": "https://localhost:8080/"
        },
        "id": "t5gRXga2JIr-",
        "outputId": "696b6c38-1379-465a-a088-549f89ce52f9"
      },
      "outputs": [
        {
          "name": "stdout",
          "output_type": "stream",
          "text": [
            "Valor a:1\n",
            "<class 'float'>\n",
            "valor b:2\n",
            "<class 'float'>\n",
            "<class 'float'>\n",
            "0.5\n"
          ]
        }
      ],
      "source": [
        "# prompt: divisão\n",
        "\n",
        "a = float(input (\"Valor a:\"))\n",
        "print(type(a))\n",
        "b= float(input(\"valor b:\"))\n",
        "print(type(b))\n",
        "divisao = a/b\n",
        "print (type(divisao))\n",
        "print(divisao)\n"
      ]
    },
    {
      "cell_type": "code",
      "execution_count": null,
      "metadata": {
        "colab": {
          "base_uri": "https://localhost:8080/"
        },
        "id": "UsOf6EJaJwrb",
        "outputId": "6328075b-fbd4-4ef1-fa8e-6c5fe8b059ed"
      },
      "outputs": [
        {
          "name": "stdout",
          "output_type": "stream",
          "text": [
            "Numero 1: 1\n",
            "Numero 2: 2\n",
            "3\n",
            "<class 'int'>\n",
            "<class 'int'>\n",
            "<class 'int'>\n",
            "1.5\n",
            "1\n"
          ]
        }
      ],
      "source": [
        "num_1 = int(input(\"Numero 1: \"))\n",
        "num_2 = int(input(\"Numero 2: \"))\n",
        "soma = num_1+num_2\n",
        "print(soma)\n",
        "print(type(num_1))\n",
        "print(type(num_2))\n",
        "print(type(soma))\n",
        "quoc = soma/2\n",
        "resto=soma%2\n",
        "print(quoc)\n",
        "print(resto)"
      ]
    },
    {
      "cell_type": "code",
      "execution_count": null,
      "metadata": {
        "colab": {
          "base_uri": "https://localhost:8080/"
        },
        "id": "0688BmBRKCVh",
        "outputId": "e12d6767-a996-45f1-9833-29512b903ea1"
      },
      "outputs": [
        {
          "name": "stdout",
          "output_type": "stream",
          "text": [
            "Valor 1: 1\n",
            "Valor 2: 2\n",
            "Valor 3: 3\n",
            "2.0\n"
          ]
        }
      ],
      "source": [
        "v1 = float(input(\"Valor 1: \"))\n",
        "v2 = float(input(\"Valor 2: \"))\n",
        "v3 = float(input(\"Valor 3: \"))\n",
        "media =(v1+v2+v3)/3\n",
        "print(media)"
      ]
    },
    {
      "cell_type": "code",
      "execution_count": null,
      "metadata": {
        "colab": {
          "base_uri": "https://localhost:8080/"
        },
        "id": "NeK7tP9fKBtn",
        "outputId": "5221e77d-2690-44f7-d752-0ddf62c45101"
      },
      "outputs": [
        {
          "name": "stdout",
          "output_type": "stream",
          "text": [
            "Base: 20\n",
            "Altura: 10\n",
            "100.0\n"
          ]
        }
      ],
      "source": [
        "#BASE*ALTURA/2; EXIBIR AREA; FIM\n",
        "\n",
        "base= float(input(\"Base: \"))\n",
        "altura= float(input(\"Altura: \"))\n",
        "area=(base*altura)/2\n",
        "print(area)"
      ]
    },
    {
      "cell_type": "markdown",
      "metadata": {
        "id": "aWtdzw0g6OUy"
      },
      "source": [
        "#Verdadeiro_Ou_Falso"
      ]
    },
    {
      "cell_type": "code",
      "execution_count": 32,
      "metadata": {
        "colab": {
          "base_uri": "https://localhost:8080/"
        },
        "id": "wm2fI6F86Xo2",
        "outputId": "67683153-080e-4a8a-93ec-ad07fdc61ab5"
      },
      "outputs": [
        {
          "output_type": "stream",
          "name": "stdout",
          "text": [
            "Valor Coletado: 100\n",
            "Local Coletado: 1\n",
            "O valor 100 não está na base de dados.\n"
          ]
        }
      ],
      "source": [
        "# Base de dados inicial\n",
        "Base = {\n",
        "    'Nome': ['Carro', 'Maquina', 'TV', 'Mesa', 'Molde'],\n",
        "    'ID': [1, 2, 3, 4, 5],\n",
        "    'Local': ['100', '101', '102', '103', '104']\n",
        "}\n",
        "\n",
        "# Coletando o valor via APP\n",
        "Valor_Coletado = int(input(\"Valor Coletado: \"))\n",
        "Local_Coletado = input(\"Local Coletado: \")\n",
        "\n",
        "# Verificando se o valor coletado está na Base de Dados\n",
        "if Valor_Coletado in Base.get('ID'):\n",
        "    index = Base.get('ID').index(Valor_Coletado)\n",
        "    if Base['Local'][index] == Local_Coletado:\n",
        "        print(f\"O valor {Valor_Coletado} está na base de dados e o local é o mesmo.\")\n",
        "    else:\n",
        "        print(f\"O valor {Valor_Coletado} está na base de dados, mas o local é diferente.\")\n",
        "else:\n",
        "    print(f\"O valor {Valor_Coletado} não está na base de dados.\")\n"
      ]
    },
    {
      "cell_type": "code",
      "source": [],
      "metadata": {
        "id": "GK-a3cqX-ZI_"
      },
      "execution_count": null,
      "outputs": []
    },
    {
      "cell_type": "markdown",
      "source": [
        "# Nova seção"
      ],
      "metadata": {
        "id": "oRH_5rfz-TPG"
      }
    },
    {
      "cell_type": "markdown",
      "metadata": {
        "id": "nE_nZv-T2GW5"
      },
      "source": [
        "#Teste_Atualizar_Data"
      ]
    },
    {
      "cell_type": "code",
      "execution_count": 3,
      "metadata": {
        "colab": {
          "base_uri": "https://localhost:8080/"
        },
        "id": "G6aB9CGX73ze",
        "outputId": "e91d1953-aad2-4b5a-f49d-31703de80bb1"
      },
      "outputs": [
        {
          "output_type": "stream",
          "name": "stdout",
          "text": [
            "Valor Coletado: 1\n",
            "Local Coletado: 100\n",
            "O valor 1 Bem Localizado.\n",
            "Base de dados salva em base_dados.txt\n"
          ]
        }
      ],
      "source": [
        "import datetime\n",
        "\n",
        "# Base de dados inicial\n",
        "Base = {\n",
        "    'Nome': ['Carro', 'Maquina', 'TV', 'Mesa', 'Molde'],\n",
        "    'ID': [1, 2, 3, 4, 5],\n",
        "    'Local': ['100', '101', '102', '103', '104'],\n",
        "    'DataHora': [''] * 5  # Adicionando campo para data e hora\n",
        "}\n",
        "\n",
        "# Função para salvar a base de dados em um arquivo txt\n",
        "def salvar_base_dados(base, nome_arquivo=\"base_dados.txt\"):\n",
        "    with open(nome_arquivo, 'w') as file:\n",
        "        for i in range(len(base['ID'])):\n",
        "            linha = (f\"ID: {base['ID'][i]}, Nome: {base['Nome'][i]}, \"\n",
        "                     f\"Local: {base['Local'][i]}, DataHora: {base['DataHora'][i]}\\n\")\n",
        "            file.write(linha)\n",
        "    print(f\"Base de dados salva em {nome_arquivo}\")\n",
        "\n",
        "# Coletando o valor via APP\n",
        "Valor_Coletado = int(input(\"Valor Coletado: \"))\n",
        "Local_Coletado = input(\"Local Coletado: \")\n",
        "\n",
        "# Verificando se o valor coletado está na Base de Dados\n",
        "if Valor_Coletado in Base.get('ID'):\n",
        "    index = Base.get('ID').index(Valor_Coletado)\n",
        "    if Base['Local'][index] == Local_Coletado:\n",
        "        print(f\"O valor {Valor_Coletado} Bem Localizado.\")\n",
        "    else:\n",
        "        print(f\"O Ativo Fixo {Valor_Coletado} foi Localizado, mas seu Centro de Custo é diferente.\")\n",
        "        atualizar = input(\"Deseja atualizar para o novo Centro de Custo? (Sim/Não): \").strip().lower()\n",
        "        if atualizar == \"sim\":\n",
        "            Base['Local'][index] = Local_Coletado\n",
        "            Base['DataHora'][index] = datetime.datetime.now().strftime(\"%Y-%m-%d %H:%M:%S\")\n",
        "            print(f\"Local Atualizado {Valor_Coletado} é {Local_Coletado}.\")\n",
        "            salvar_base_dados(Base)\n",
        "        else:\n",
        "            print(\"Bem Inventáriado.\")\n",
        "else:\n",
        "    print(f\"O Ativo Fixo {Valor_Coletado} não foi localizado.\")\n",
        "\n",
        "    print(base)\n",
        "\n",
        "# Salvando a base de dados no final da execução\n",
        "salvar_base_dados(Base)\n"
      ]
    },
    {
      "cell_type": "code",
      "execution_count": null,
      "metadata": {
        "id": "-iqt4BvjQ1yL"
      },
      "outputs": [],
      "source": []
    },
    {
      "cell_type": "markdown",
      "metadata": {
        "id": "aU3KWhQBQ2ZU"
      },
      "source": [
        "Teste_BASE_DADOS\n"
      ]
    },
    {
      "cell_type": "code",
      "execution_count": null,
      "metadata": {
        "colab": {
          "background_save": true,
          "base_uri": "https://localhost:8080/"
        },
        "id": "wjaDafvjQ69v",
        "outputId": "6fad397c-d6a1-4ed1-9d44-9ed5b645a9d9"
      },
      "outputs": [
        {
          "name": "stdout",
          "output_type": "stream",
          "text": [
            "O valor 1 Bem Localizado, mas o local é diferente.\n"
          ]
        }
      ],
      "source": [
        "import csv\n",
        "import datetime\n",
        "import os\n",
        "\n",
        "# Função para carregar a base de dados de um arquivo CSV\n",
        "def carregar_base_dados(nome_arquivo):\n",
        "    base = {'Nome': [], 'ID': [], 'Local': [], 'DataHora': []}\n",
        "    if os.path.exists(nome_arquivo):\n",
        "        with open(nome_arquivo, 'r') as file:\n",
        "            reader = csv.DictReader(file)\n",
        "            for row in reader:\n",
        "                base['Nome'].append(row['Nome'])\n",
        "                base['ID'].append(int(row['ID']))\n",
        "                base['Local'].append(row['Local'])\n",
        "                base['DataHora'].append(row['DataHora'])\n",
        "    return base\n",
        "\n",
        "# Função para salvar a base de dados em um arquivo CSV\n",
        "def salvar_base_dados(base, nome_arquivo):\n",
        "    with open(nome_arquivo, 'w', newline='') as file:\n",
        "        fieldnames = ['Nome', 'ID', 'Local', 'DataHora']\n",
        "        writer = csv.DictWriter(file, fieldnames=fieldnames)\n",
        "        writer.writeheader()\n",
        "        for i in range(len(base['ID'])):\n",
        "            writer.writerow({\n",
        "                'Nome': base['Nome'][i],\n",
        "                'ID': base['ID'][i],\n",
        "                'Local': base['Local'][i],\n",
        "                'DataHora': base['DataHora'][i]\n",
        "            })\n",
        "    print(f\"Base de dados salva em {nome_arquivo}\")\n",
        "\n",
        "# Caminho para o arquivo CSV\n",
        "caminho_arquivo = \"C:\\\\Users\\\\fjsilva\\\\Downloads\\\\Template_BI\\\\base_dados.csv\"\n",
        "\n",
        "# Carregar a base de dados do arquivo CSV\n",
        "Base = carregar_base_dados(caminho_arquivo)\n",
        "\n",
        "# Coletando o valor via APP\n",
        "Valor_Coletado = int(input(\"Valor Coletado: \"))\n",
        "Local_Coletado = int(input(\"Local Coletado: \"))\n",
        "\n",
        "# Verificando se o valor coletado está na Base de Dados\n",
        "if Valor_Coletado in Base['ID']:\n",
        "    index = Base['ID'].index(Valor_Coletado)\n",
        "\n",
        "\n",
        "    if Base['Local'][index] == Local_Coletado:\n",
        "        print(f\"O valor {Valor_Coletado} Bem Localizado.\")\n",
        "    else:\n",
        "        print(f\"O valor {Valor_Coletado} Bem Localizado, mas o local é diferente.\")\n",
        "        atualizar = input(\"Deseja atualizar o novo local? (Sim/Não): \").strip().lower()\n",
        "        if atualizar == \"sim\":\n",
        "            Base['Local'][index] = Local_Coletado\n",
        "            Base['DataHora'][index] = datetime.datetime.now().strftime(\"%Y-%m-%d %H:%M:%S\")\n",
        "            print(f\"Local Atualizado {Valor_Coletado} é {Local_Coletado}.\")\n",
        "else:\n",
        "    print(f\"O valor {Valor_Coletado} não está na base de dados.\")\n",
        "    adicionar = input(\"Deseja adicionar este valor na base de dados? (Sim/Não): \").strip().lower()\n",
        "    if adicionar == \"sim\":\n",
        "        nome_item = input(\"Digite o nome do item: \")\n",
        "        Base['Nome'].append(nome_item)\n",
        "        Base['ID'].append(Valor_Coletado)\n",
        "        Base['Local'].append(Local_Coletado)\n",
        "        Base['DataHora'].append(datetime.datetime.now().strftime(\"%Y-%m-%d %H:%M:%S\"))\n",
        "        print(f\"Item {nome_item} adicionado com sucesso.\")\n",
        "\n",
        "# Salvando a base de dados após as operações\n",
        "salvar_base_dados(Base, caminho_arquivo)\n"
      ]
    },
    {
      "cell_type": "markdown",
      "metadata": {
        "id": "UUoFyduY1cM6"
      },
      "source": [
        "#Teste_Atualizar"
      ]
    },
    {
      "cell_type": "code",
      "execution_count": 4,
      "metadata": {
        "id": "JU2YkyfW1iX_",
        "colab": {
          "base_uri": "https://localhost:8080/",
          "height": 419
        },
        "outputId": "06b7a3bd-4f09-4382-9630-d9e47bf9d03d"
      },
      "outputs": [
        {
          "output_type": "stream",
          "name": "stdout",
          "text": [
            "Valor Coletado: 1\n",
            "Local Coletado: 101\n",
            "O Patriomonio 1 foi Localizado, mas o seu Centro de Custo é diferente.\n",
            "Deseja atualizar o Centro de Custo? (Sim/Não): Sim\n",
            "Local Atualizado 1 é 101.\n"
          ]
        },
        {
          "output_type": "error",
          "ename": "FileNotFoundError",
          "evalue": "[Errno 2] No such file or directory: '/mnt/data/base_dados.txt'",
          "traceback": [
            "\u001b[0;31m---------------------------------------------------------------------------\u001b[0m",
            "\u001b[0;31mFileNotFoundError\u001b[0m                         Traceback (most recent call last)",
            "\u001b[0;32m<ipython-input-4-3f8b4eaeb3ec>\u001b[0m in \u001b[0;36m<cell line: 25>\u001b[0;34m()\u001b[0m\n\u001b[1;32m     34\u001b[0m             \u001b[0mBase\u001b[0m\u001b[0;34m[\u001b[0m\u001b[0;34m'DataHora'\u001b[0m\u001b[0;34m]\u001b[0m\u001b[0;34m[\u001b[0m\u001b[0mindex\u001b[0m\u001b[0;34m]\u001b[0m \u001b[0;34m=\u001b[0m \u001b[0mdatetime\u001b[0m\u001b[0;34m.\u001b[0m\u001b[0mdatetime\u001b[0m\u001b[0;34m.\u001b[0m\u001b[0mnow\u001b[0m\u001b[0;34m(\u001b[0m\u001b[0;34m)\u001b[0m\u001b[0;34m.\u001b[0m\u001b[0mstrftime\u001b[0m\u001b[0;34m(\u001b[0m\u001b[0;34m\"%Y-%m-%d %H:%M:%S\"\u001b[0m\u001b[0;34m)\u001b[0m\u001b[0;34m\u001b[0m\u001b[0;34m\u001b[0m\u001b[0m\n\u001b[1;32m     35\u001b[0m             \u001b[0mprint\u001b[0m\u001b[0;34m(\u001b[0m\u001b[0;34mf\"Local Atualizado {Valor_Coletado} é {Local_Coletado}.\"\u001b[0m\u001b[0;34m)\u001b[0m\u001b[0;34m\u001b[0m\u001b[0;34m\u001b[0m\u001b[0m\n\u001b[0;32m---> 36\u001b[0;31m             \u001b[0mcaminho_arquivo\u001b[0m \u001b[0;34m=\u001b[0m \u001b[0msalvar_base_dados\u001b[0m\u001b[0;34m(\u001b[0m\u001b[0mBase\u001b[0m\u001b[0;34m)\u001b[0m\u001b[0;34m\u001b[0m\u001b[0;34m\u001b[0m\u001b[0m\n\u001b[0m\u001b[1;32m     37\u001b[0m             \u001b[0mprint\u001b[0m\u001b[0;34m(\u001b[0m\u001b[0;34mf\"Bem Inventariado com Sucesso. Baixe o arquivo clicando no link: {caminho_arquivo}\"\u001b[0m\u001b[0;34m)\u001b[0m\u001b[0;34m\u001b[0m\u001b[0;34m\u001b[0m\u001b[0m\n\u001b[1;32m     38\u001b[0m         \u001b[0;32melse\u001b[0m\u001b[0;34m:\u001b[0m\u001b[0;34m\u001b[0m\u001b[0;34m\u001b[0m\u001b[0m\n",
            "\u001b[0;32m<ipython-input-4-3f8b4eaeb3ec>\u001b[0m in \u001b[0;36msalvar_base_dados\u001b[0;34m(base, nome_arquivo)\u001b[0m\n\u001b[1;32m     11\u001b[0m \u001b[0;31m# Função para salvar a base de dados em um arquivo txt\u001b[0m\u001b[0;34m\u001b[0m\u001b[0;34m\u001b[0m\u001b[0m\n\u001b[1;32m     12\u001b[0m \u001b[0;32mdef\u001b[0m \u001b[0msalvar_base_dados\u001b[0m\u001b[0;34m(\u001b[0m\u001b[0mbase\u001b[0m\u001b[0;34m,\u001b[0m \u001b[0mnome_arquivo\u001b[0m\u001b[0;34m=\u001b[0m\u001b[0;34m\"base_dados.txt\"\u001b[0m\u001b[0;34m)\u001b[0m\u001b[0;34m:\u001b[0m\u001b[0;34m\u001b[0m\u001b[0;34m\u001b[0m\u001b[0m\n\u001b[0;32m---> 13\u001b[0;31m     \u001b[0;32mwith\u001b[0m \u001b[0mopen\u001b[0m\u001b[0;34m(\u001b[0m\u001b[0;34mf\"/mnt/data/{nome_arquivo}\"\u001b[0m\u001b[0;34m,\u001b[0m \u001b[0;34m'w'\u001b[0m\u001b[0;34m)\u001b[0m \u001b[0;32mas\u001b[0m \u001b[0mfile\u001b[0m\u001b[0;34m:\u001b[0m\u001b[0;34m\u001b[0m\u001b[0;34m\u001b[0m\u001b[0m\n\u001b[0m\u001b[1;32m     14\u001b[0m         \u001b[0;32mfor\u001b[0m \u001b[0mi\u001b[0m \u001b[0;32min\u001b[0m \u001b[0mrange\u001b[0m\u001b[0;34m(\u001b[0m\u001b[0mlen\u001b[0m\u001b[0;34m(\u001b[0m\u001b[0mbase\u001b[0m\u001b[0;34m[\u001b[0m\u001b[0;34m'ID'\u001b[0m\u001b[0;34m]\u001b[0m\u001b[0;34m)\u001b[0m\u001b[0;34m)\u001b[0m\u001b[0;34m:\u001b[0m\u001b[0;34m\u001b[0m\u001b[0;34m\u001b[0m\u001b[0m\n\u001b[1;32m     15\u001b[0m             linha = (f\"ID: {base['ID'][i]}, Nome: {base['Nome'][i]}, \"\n",
            "\u001b[0;31mFileNotFoundError\u001b[0m: [Errno 2] No such file or directory: '/mnt/data/base_dados.txt'"
          ]
        }
      ],
      "source": [
        "import datetime\n",
        "\n",
        "# Base de dados inicial\n",
        "Base = {\n",
        "    'Nome': ['Carro', 'Maquina', 'TV', 'Mesa', 'Molde'],\n",
        "    'ID': [1, 2, 3, 4, 5],\n",
        "    'Local': ['100', '101', '102', '103', '104'],\n",
        "    'DataHora': [''] * 5  # Adicionando campo para data e hora\n",
        "}\n",
        "\n",
        "# Função para salvar a base de dados em um arquivo txt\n",
        "def salvar_base_dados(base, nome_arquivo=\"base_dados.txt\"):\n",
        "    with open(f\"/mnt/data/{nome_arquivo}\", 'w') as file:\n",
        "        for i in range(len(base['ID'])):\n",
        "            linha = (f\"ID: {base['ID'][i]}, Nome: {base['Nome'][i]}, \"\n",
        "                     f\"Local: {base['Local'][i]}, DataHora: {base['DataHora'][i]}\\n\")\n",
        "            file.write(linha)\n",
        "    return f\"/mnt/data/{nome_arquivo}\"\n",
        "\n",
        "# Coletando o valor via APP\n",
        "Valor_Coletado = int(input(\"Valor Coletado: \"))\n",
        "Local_Coletado = input(\"Local Coletado: \")\n",
        "\n",
        "# Verificando se o valor coletado está na Base de Dados\n",
        "if Valor_Coletado in Base.get('ID'):\n",
        "    index = Base.get('ID').index(Valor_Coletado)\n",
        "    if Base['Local'][index] == Local_Coletado:\n",
        "        print(f\"O valor {Valor_Coletado} Bem Localizado.\")\n",
        "    else:\n",
        "        print(f\"O Patriomonio {Valor_Coletado} foi Localizado, mas o seu Centro de Custo é diferente.\")\n",
        "        atualizar = input(\"Deseja atualizar o Centro de Custo? (Sim/Não): \").strip().lower()\n",
        "        if atualizar == \"sim\":\n",
        "            Base['Local'][index] = Local_Coletado\n",
        "            Base['DataHora'][index] = datetime.datetime.now().strftime(\"%Y-%m-%d %H:%M:%S\")\n",
        "            print(f\"Local Atualizado {Valor_Coletado} é {Local_Coletado}.\")\n",
        "            caminho_arquivo = salvar_base_dados(Base)\n",
        "            print(f\"Bem Inventariado com Sucesso. Baixe o arquivo clicando no link: {caminho_arquivo}\")\n",
        "        else:\n",
        "            print(\"Bem Inventariado, Sem Alteração de Centro de custo.\")\n",
        "else:\n",
        "    print(f\"O Ativo Fixo {Valor_Coletado} não foi localizado na base de dados.\")\n",
        "\n",
        "# Salvando a base de dados no final da execução\n",
        "caminho_arquivo = salvar_base_dados(Base)\n",
        "print(f\"Base de dados salva. Baixe o arquivo clicando no link: {caminho_arquivo}\")\n"
      ]
    },
    {
      "cell_type": "markdown",
      "source": [
        "# Nova seção"
      ],
      "metadata": {
        "id": "-sd6a3Wd0aVM"
      }
    },
    {
      "cell_type": "markdown",
      "source": [
        "#Sugestao_Google"
      ],
      "metadata": {
        "id": "uyTnfprt0bw6"
      }
    },
    {
      "cell_type": "code",
      "source": [
        "import datetime\n",
        "\n",
        "# Base de dados inicial\n",
        "Base = {\n",
        "    'Nome': ['Carro', 'Maquina', 'TV', 'Mesa', 'Molde'],\n",
        "    'ID': [1, 2, 3, 4, 5],\n",
        "    'Local': ['100', '101', '102', '103', '104'],\n",
        "    'DataHora': [''] * 5  # Adicionando campo para data e hora\n",
        "}\n",
        "\n",
        "# Função para salvar a base de dados em um arquivo txt\n",
        "def salvar_base_dados(base, nome_arquivo=\"base_dados.txt\"):\n",
        "    with open(f\"./{nome_arquivo}\", 'w') as file:\n",
        "        for i in range(len(base['ID'])):\n",
        "            linha = (f\"ID: {base['ID'][i]}, Nome: {base['Nome'][i]}, \"\n",
        "                     f\"Local: {base['Local'][i]}, DataHora: {base['DataHora'][i]}\\n\")\n",
        "            file.write(linha)\n",
        "    return f\"Teste/.{nome_arquivo}\"\n",
        "# Coletando o valor via APP\n",
        "Valor_Coletado = int(input(\"Valor Coletado: \"))\n",
        "Local_Coletado = input(\"Local Coletado: \")\n",
        "\n",
        "# Verificando se o valor coletado está na Base de Dados\n",
        "if Valor_Coletado in Base.get('ID'):\n",
        "    index = Base.get('ID').index(Valor_Coletado)\n",
        "    if Base['Local'][index] == Local_Coletado:\n",
        "        print(f\"O Patrimonio {Valor_Coletado} Inventariado com Sucesso.\")\n",
        "    else:\n",
        "        print(f\"O Patriomonio {Valor_Coletado} foi Localizado, mas o seu centro de custo é diferente.\")\n",
        "        atualizar = input(\"Deseja atualizar o Centro de Custo? (Sim/Não): \").strip().lower()\n",
        "        if atualizar == \"sim\":\n",
        "            Base['Local'][index] = Local_Coletado\n",
        "            Base['DataHora'][index] = datetime.datetime.now().strftime(\"%Y-%m-%d %H:%M:%S\")\n",
        "            print(f\"Local Atualizado {Valor_Coletado} é {Local_Coletado}.\")\n",
        "            caminho_arquivo = salvar_base_dados(Base)\n",
        "            print(f\"Bem Inventariado com Sucesso\")\n",
        "        else:\n",
        "            print(\"Bem Inventariado, Sem Alteração de centro de custo.\")\n",
        "else:\n",
        "    print(f\"O Ativo Fixo {Valor_Coletado} não foi localizado na base de dados.\")\n",
        "\n",
        "# Salvando a base de dados no final da execução\n",
        "caminho_arquivo = salvar_base_dados(Base)\n",
        "print(f\"Base de dados salva\")"
      ],
      "metadata": {
        "colab": {
          "base_uri": "https://localhost:8080/"
        },
        "id": "8pFQfO1x0j_1",
        "outputId": "e27d3994-408b-4673-eab2-b6007268a03b"
      },
      "execution_count": 29,
      "outputs": [
        {
          "output_type": "stream",
          "name": "stdout",
          "text": [
            "Valor Coletado: 100\n",
            "Local Coletado: 1\n",
            "O Ativo Fixo 100 não foi localizado na base de dados.\n",
            "Base de dados salva\n"
          ]
        }
      ]
    }
  ],
  "metadata": {
    "colab": {
      "collapsed_sections": [
        "yR9TZothFaez",
        "UUoFyduY1cM6"
      ],
      "toc_visible": true,
      "provenance": [],
      "history_visible": true,
      "authorship_tag": "ABX9TyPEaOi0NTAPowBtMdCNgXF5",
      "include_colab_link": true
    },
    "kernelspec": {
      "display_name": "Python 3",
      "name": "python3"
    },
    "language_info": {
      "name": "python"
    }
  },
  "nbformat": 4,
  "nbformat_minor": 0
}