{
  "nbformat": 4,
  "nbformat_minor": 0,
  "metadata": {
    "colab": {
      "provenance": [],
      "authorship_tag": "ABX9TyOSS7BAPSfJ2XUy2X6ZvPGU",
      "include_colab_link": true
    },
    "kernelspec": {
      "name": "python3",
      "display_name": "Python 3"
    },
    "language_info": {
      "name": "python"
    }
  },
  "cells": [
    {
      "cell_type": "markdown",
      "metadata": {
        "id": "view-in-github",
        "colab_type": "text"
      },
      "source": [
        "<a href=\"https://colab.research.google.com/github/Fjsilva285/Teste_Publico/blob/main/Ativo_Imobilizado.ipynb\" target=\"_parent\"><img src=\"https://colab.research.google.com/assets/colab-badge.svg\" alt=\"Open In Colab\"/></a>"
      ]
    },
    {
      "cell_type": "code",
      "execution_count": null,
      "metadata": {
        "colab": {
          "base_uri": "https://localhost:8080/"
        },
        "id": "ocRcvXjuWHLO",
        "outputId": "c4565940-a9bb-485e-933d-4a8280ac74d4"
      },
      "outputs": [
        {
          "output_type": "stream",
          "name": "stdout",
          "text": [
            "Valor Coletado: 1\n",
            "Local Coletado: 101\n",
            "O valor 1 está na base de dados, mas o local é diferente.\n"
          ]
        }
      ],
      "source": [
        "# Base de dados_para Inventario\n",
        "Base = {\n",
        "    'Nome': ['Carro', 'Maquina', 'TV', 'Mesa', 'Molde'],\n",
        "    'ID': [1, 2, 3, 4, 5],\n",
        "    'Local': ['100', '101', '102', '103', '104']\n",
        "}\n",
        "\n",
        "\n",
        "# Coletando o valor via APP\n",
        "Valor_Coletado = int(input(\"Valor Coletado: \"))\n",
        "Local_Coletado = input(\"Local Coletado: \")\n",
        "\n",
        "# Verificando se o valor coletado está na Base de Dados\n",
        "if Valor_Coletado in Base.get('ID'):\n",
        "    index = Base.get('ID').index(Valor_Coletado)\n",
        "    if Base['Local'][index] == Local_Coletado:\n",
        "        print(f\"O valor {Valor_Coletado} está na base de dados e o local é o mesmo.\")\n",
        "    else:\n",
        "        print(f\"O valor {Valor_Coletado} está na base de dados, mas o local é diferente.\")\n",
        "else:\n",
        "    print(f\"O valor {Valor_Coletado} não está na base de dados.\")\n"
      ]
    }
  ]
}